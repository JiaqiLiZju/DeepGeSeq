{
 "cells": [
  {
   "cell_type": "code",
   "execution_count": 1,
   "id": "e02df4ed",
   "metadata": {},
   "outputs": [
    {
     "name": "stdout",
     "output_type": "stream",
     "text": [
      "['/share/home/zhanglab/user/lijiaqi/NvTK_manuscript/5_NvTK_MPRA', '/share/home/zhanglab/user/lijiaqi/tools/cactus-bin-v2.6.12/lib', '/share/home/zhanglab/user/lijiaqi/NvTK_manuscript/5_NvTK_MPRA', '/share/home/zhanglab/user/lijiaqi/anaconda3/lib/python39.zip', '/share/home/zhanglab/user/lijiaqi/anaconda3/lib/python3.9', '/share/home/zhanglab/user/lijiaqi/anaconda3/lib/python3.9/lib-dynload', '', '/share/home/zhanglab/user/lijiaqi/anaconda3/lib/python3.9/site-packages', '/share/home/zhanglab/user/lijiaqi/anaconda3/lib/python3.9/site-packages/locket-0.2.1-py3.9.egg', '/share/home/zhanglab/user/lijiaqi/anaconda3/lib/python3.9/site-packages/IPython/extensions', '/share/home/zhanglab/user/lijiaqi/anaconda3/lib/python3.9/site-packages/setuptools/_vendor', '/share/home/zhanglab/user/lijiaqi/.ipython', '../DeepGeSeq/']\n"
     ]
    }
   ],
   "source": [
    "import sys\n",
    "sys.path.append(\"../DeepGeSeq/\")\n",
    "print(sys.path)"
   ]
  },
  {
   "cell_type": "code",
   "execution_count": 2,
   "id": "b0b9ba6d",
   "metadata": {},
   "outputs": [],
   "source": [
    "import h5py, os, argparse, logging, time\n",
    "\n",
    "import numpy as np\n",
    "import pandas as pd\n",
    "\n",
    "import torch\n",
    "from torch import nn\n",
    "from torch.optim import Adam\n",
    "from torch.utils.data import DataLoader\n",
    "\n",
    "import DGS as dgs\n",
    "from DGS.DL.Trainer import Trainer\n",
    "from DGS.Model.ConvModel import CNN\n",
    "from DGS.DL.Evaluator import calculate_regression_metrics"
   ]
  },
  {
   "cell_type": "code",
   "execution_count": 3,
   "id": "3944a28e",
   "metadata": {},
   "outputs": [],
   "source": [
    "os.makedirs(\"./Log\", exist_ok=True)\n",
    "dgs.initialize_logger(time.strftime('./Log/log_nvtk_deepsea.%m%d.%H:%M:%S.txt'), verbosity=1)\n",
    "\n",
    "# args\n",
    "parser = argparse.ArgumentParser()\n",
    "parser.add_argument(\"data\")\n",
    "parser.add_argument(\"--gpu-device\", dest=\"device_id\", default=\"0\")\n",
    "args = parser.parse_args(['data_MPRA/Dataset.CRE_Multi.h5', \n",
    "                          '--gpu-device', '3'])\n",
    "logging.info(args)\n"
   ]
  },
  {
   "cell_type": "code",
   "execution_count": 4,
   "id": "050bcad9",
   "metadata": {},
   "outputs": [],
   "source": [
    "## change device\n",
    "os.environ[\"CUDA_VISIBLE_DEVICES\"] = args.device_id\n",
    "device = torch.device(\"cuda\" if torch.cuda.is_available() else \"cpu\")\n"
   ]
  },
  {
   "cell_type": "markdown",
   "id": "2d6ad04c",
   "metadata": {},
   "source": [
    "## Prepare dataset\n",
    "\n",
    "1. unpack the h5file datasets\n",
    "2. generate the DataLoader"
   ]
  },
  {
   "cell_type": "code",
   "execution_count": 5,
   "id": "6f2044c7",
   "metadata": {
    "scrolled": true
   },
   "outputs": [
    {
     "data": {
      "text/plain": [
       "((26437, 4, 87), (26437, 4))"
      ]
     },
     "execution_count": 5,
     "metadata": {},
     "output_type": "execute_result"
    }
   ],
   "source": [
    "# unpack datasets\n",
    "h5file = h5py.File(args.data, 'r')\n",
    "X = h5file[\"X\"][:].swapaxes(1,-1).astype(np.float32)\n",
    "Y = h5file[\"Y\"][:].astype(np.float32)\n",
    "varid = h5file[\"x_varid\"][:].astype(str)\n",
    "taskid = h5file[\"y_taskid\"][:].astype(str)\n",
    "h5file.close()\n",
    "\n",
    "X.shape, Y.shape"
   ]
  },
  {
   "cell_type": "code",
   "execution_count": 6,
   "id": "f830a94d",
   "metadata": {},
   "outputs": [],
   "source": [
    "Y = Y[:,:2]\n",
    "taskid = taskid[:2]"
   ]
  },
  {
   "cell_type": "code",
   "execution_count": 7,
   "id": "68699797",
   "metadata": {},
   "outputs": [
    {
     "data": {
      "text/plain": [
       "array(['CRE induced (100 uM forskolin, 5 hrs), replicate 1',\n",
       "       'CRE induced (100 uM forskolin, 5 hrs), replicate 2'], dtype='<U50')"
      ]
     },
     "execution_count": 7,
     "metadata": {},
     "output_type": "execute_result"
    }
   ],
   "source": [
    "# unpack anno\n",
    "n_tasks = taskid.shape[0]\n",
    "taskid"
   ]
  },
  {
   "cell_type": "code",
   "execution_count": 8,
   "id": "2d56316c",
   "metadata": {},
   "outputs": [
    {
     "data": {
      "text/plain": [
       "(16919, 5288, 4230)"
      ]
     },
     "execution_count": 8,
     "metadata": {},
     "output_type": "execute_result"
    }
   ],
   "source": [
    "from sklearn.model_selection import train_test_split\n",
    "train_idx, test_idx = train_test_split(range(X.shape[0]), test_size=0.2)\n",
    "train_idx, val_idx = train_test_split(train_idx, test_size=0.2)\n",
    "len(train_idx), len(test_idx), len(val_idx)"
   ]
  },
  {
   "cell_type": "code",
   "execution_count": 9,
   "id": "a6b27c53",
   "metadata": {},
   "outputs": [
    {
     "data": {
      "text/plain": [
       "((16919, 4, 87), (5288, 4, 87), (4230, 4, 87))"
      ]
     },
     "execution_count": 9,
     "metadata": {},
     "output_type": "execute_result"
    }
   ],
   "source": [
    "x_train = X[train_idx]\n",
    "x_val = X[test_idx]\n",
    "x_test = X[val_idx]\n",
    "\n",
    "x_train.shape, x_val.shape, x_test.shape"
   ]
  },
  {
   "cell_type": "code",
   "execution_count": 10,
   "id": "c5c11df9",
   "metadata": {},
   "outputs": [
    {
     "data": {
      "text/plain": [
       "((16919, 2), (5288, 2), (4230, 2))"
      ]
     },
     "execution_count": 10,
     "metadata": {},
     "output_type": "execute_result"
    }
   ],
   "source": [
    "y_train = Y[train_idx]\n",
    "y_val = Y[test_idx]\n",
    "y_test = Y[val_idx]\n",
    "\n",
    "y_train.shape, y_val.shape, y_test.shape"
   ]
  },
  {
   "cell_type": "code",
   "execution_count": 11,
   "id": "e0e486e8",
   "metadata": {},
   "outputs": [],
   "source": [
    "# define data loader\n",
    "batch_size = 1000\n",
    "train_loader = DataLoader(list(zip(x_train, y_train)), batch_size=batch_size,\n",
    "                            shuffle=True, num_workers=0, drop_last=False, pin_memory=True)\n",
    "validate_loader = DataLoader(list(zip(x_val, y_val)), batch_size=batch_size, \n",
    "                            shuffle=False, num_workers=0, drop_last=False, pin_memory=True)\n",
    "test_loader = DataLoader(list(zip(x_test, y_test)), batch_size=batch_size, \n",
    "                            shuffle=False, num_workers=0, drop_last=False, pin_memory=True)"
   ]
  },
  {
   "cell_type": "markdown",
   "id": "b2b148e0",
   "metadata": {},
   "source": [
    "## Define CNN model\n",
    "Initialized CNN architectures in DGS"
   ]
  },
  {
   "cell_type": "code",
   "execution_count": 12,
   "id": "2b9cdf9c",
   "metadata": {},
   "outputs": [
    {
     "data": {
      "text/plain": [
       "CNN(\n",
       "  (Embedding): BasicConvEmbed(\n",
       "    (conv): Conv1d(4, 128, kernel_size=(3,), stride=(1,))\n",
       "    (activation): ReLU()\n",
       "    (pool): AvgPool1d(kernel_size=(3,), stride=(3,), padding=(0,))\n",
       "  )\n",
       "  (Encoder): Sequential(\n",
       "    (Conv): BasicConv1d(\n",
       "      (conv): Conv1d(128, 256, kernel_size=(3,), stride=(1,))\n",
       "      (bn): BatchNorm1d(256, eps=1e-05, momentum=0.01, affine=True, track_running_stats=True)\n",
       "      (activation): Sigmoid()\n",
       "      (dropout): Dropout(p=0.5, inplace=False)\n",
       "      (pool): AvgPool1d(kernel_size=(3,), stride=(3,), padding=(0,))\n",
       "    )\n",
       "    (GAP): AdaptiveAvgPool1d(output_size=8)\n",
       "    (Flatten): Flatten()\n",
       "  )\n",
       "  (Decoder): BasicLinearModule(\n",
       "    (linear): Linear(in_features=2048, out_features=256, bias=True)\n",
       "    (bn): BatchNorm1d(256, eps=1e-05, momentum=0.01, affine=True, track_running_stats=True)\n",
       "    (activation): Sigmoid()\n",
       "    (dropout): Dropout(p=0.5, inplace=False)\n",
       "  )\n",
       "  (Predictor): BasicPredictor(\n",
       "    (Map): Linear(in_features=256, out_features=2, bias=True)\n",
       "    (Pred): Sequential()\n",
       "  )\n",
       ")"
      ]
     },
     "execution_count": 12,
     "metadata": {},
     "output_type": "execute_result"
    }
   ],
   "source": [
    "model = CNN(output_size=n_tasks)\n",
    "model.Encoder.Conv.activation = nn.Sigmoid()\n",
    "model.Decoder.activation = nn.Sigmoid()\n",
    "model"
   ]
  },
  {
   "cell_type": "code",
   "execution_count": 13,
   "id": "4c82868b",
   "metadata": {},
   "outputs": [],
   "source": [
    "optimizer = Adam([\n",
    "    {'params': model.Embedding.parameters(), 'lr': 1e-6},\n",
    "    {'params': model.Encoder.parameters(), 'lr': 1e-6},\n",
    "    {'params': model.Decoder.parameters(), 'lr': 1e-5},\n",
    "    {'params': model.Predictor.parameters(), 'lr': 1e-4}])\n",
    "criterion = nn.MSELoss().to(device)\n",
    "trainer = Trainer(model, criterion, optimizer, device, patience=5)"
   ]
  },
  {
   "cell_type": "markdown",
   "id": "4c7f6f5b",
   "metadata": {},
   "source": [
    "## Trained the model \n",
    "as an example, we only finetune the DeepSEA model architectures on TFBS sub-dataset for 10 EPOCHs."
   ]
  },
  {
   "cell_type": "code",
   "execution_count": 14,
   "id": "484190d1",
   "metadata": {},
   "outputs": [
    {
     "name": "stderr",
     "output_type": "stream",
     "text": [
      "Epoch 0: 100%|██████████| 17/17 [00:01<00:00,  9.55it/s, loss=1.4884]\n",
      "Epoch 1: 100%|██████████| 17/17 [00:00<00:00, 47.34it/s, loss=1.3402]\n",
      "Epoch 2: 100%|██████████| 17/17 [00:00<00:00, 78.29it/s, loss=1.2978]\n",
      "Epoch 3: 100%|██████████| 17/17 [00:00<00:00, 81.96it/s, loss=1.2671]\n",
      "Epoch 4: 100%|██████████| 17/17 [00:00<00:00, 82.36it/s, loss=1.2418]\n",
      "Epoch 5: 100%|██████████| 17/17 [00:00<00:00, 82.15it/s, loss=1.2319]\n",
      "Epoch 6: 100%|██████████| 17/17 [00:00<00:00, 83.64it/s, loss=1.2143]\n",
      "Epoch 7: 100%|██████████| 17/17 [00:00<00:00, 82.50it/s, loss=1.1989]\n"
     ]
    },
    {
     "data": {
      "text/plain": [
       "TrainerMetrics(train_losses=[1.4884346933925854, 1.3402178778367884, 1.2978308200836182, 1.2670640875311459, 1.2418346194659962, 1.2319448204601513, 1.2143488210790299, 1.1989310208488912], val_losses=[1.305206338564555, 1.2434120575586955, 1.238001525402069, 1.2419957915941875, 1.2449106176694233, 1.2504617770512898, 1.2615378697713215, 1.2770255208015442], train_metrics=[], val_metrics=[], best_val_loss=1.238001525402069, best_val_metric=0.0, best_epoch=2)"
      ]
     },
     "execution_count": 14,
     "metadata": {},
     "output_type": "execute_result"
    }
   ],
   "source": [
    "# train\n",
    "trainer.train(train_loader, validate_loader, epochs=40)"
   ]
  },
  {
   "cell_type": "code",
   "execution_count": 15,
   "id": "827e342d",
   "metadata": {},
   "outputs": [],
   "source": [
    "# if you have enabled tensorboard\n",
    "# !tensorboard --logdir=runs --bind_all"
   ]
  },
  {
   "cell_type": "markdown",
   "id": "8e6b53b1",
   "metadata": {},
   "source": [
    "## Evaluated the model"
   ]
  },
  {
   "cell_type": "code",
   "execution_count": 16,
   "id": "50adb8d3",
   "metadata": {},
   "outputs": [],
   "source": [
    "os.makedirs(\"./Test\", exist_ok=True)"
   ]
  },
  {
   "cell_type": "code",
   "execution_count": 17,
   "id": "5178883f",
   "metadata": {},
   "outputs": [
    {
     "data": {
      "text/html": [
       "<div>\n",
       "<style scoped>\n",
       "    .dataframe tbody tr th:only-of-type {\n",
       "        vertical-align: middle;\n",
       "    }\n",
       "\n",
       "    .dataframe tbody tr th {\n",
       "        vertical-align: top;\n",
       "    }\n",
       "\n",
       "    .dataframe thead th {\n",
       "        text-align: right;\n",
       "    }\n",
       "</style>\n",
       "<table border=\"1\" class=\"dataframe\">\n",
       "  <thead>\n",
       "    <tr style=\"text-align: right;\">\n",
       "      <th></th>\n",
       "      <th>mse</th>\n",
       "      <th>rmse</th>\n",
       "      <th>mae</th>\n",
       "      <th>r2</th>\n",
       "      <th>pearson_r</th>\n",
       "      <th>pearson_p</th>\n",
       "      <th>spearman_r</th>\n",
       "      <th>spearman_p</th>\n",
       "      <th>kendall_tau</th>\n",
       "      <th>kendall_p</th>\n",
       "    </tr>\n",
       "  </thead>\n",
       "  <tbody>\n",
       "    <tr>\n",
       "      <th>task_0</th>\n",
       "      <td>1.469114</td>\n",
       "      <td>1.212070</td>\n",
       "      <td>0.989923</td>\n",
       "      <td>-0.030725</td>\n",
       "      <td>0.609411</td>\n",
       "      <td>0.000000e+00</td>\n",
       "      <td>0.619508</td>\n",
       "      <td>0.0</td>\n",
       "      <td>0.438102</td>\n",
       "      <td>0.000000e+00</td>\n",
       "    </tr>\n",
       "    <tr>\n",
       "      <th>task_1</th>\n",
       "      <td>1.163061</td>\n",
       "      <td>1.078453</td>\n",
       "      <td>0.869016</td>\n",
       "      <td>-0.046415</td>\n",
       "      <td>0.539123</td>\n",
       "      <td>1.178025e-317</td>\n",
       "      <td>0.541619</td>\n",
       "      <td>0.0</td>\n",
       "      <td>0.378240</td>\n",
       "      <td>8.290373e-298</td>\n",
       "    </tr>\n",
       "  </tbody>\n",
       "</table>\n",
       "</div>"
      ],
      "text/plain": [
       "             mse      rmse       mae        r2  pearson_r      pearson_p  \\\n",
       "task_0  1.469114  1.212070  0.989923 -0.030725   0.609411   0.000000e+00   \n",
       "task_1  1.163061  1.078453  0.869016 -0.046415   0.539123  1.178025e-317   \n",
       "\n",
       "        spearman_r  spearman_p  kendall_tau      kendall_p  \n",
       "task_0    0.619508         0.0     0.438102   0.000000e+00  \n",
       "task_1    0.541619         0.0     0.378240  8.290373e-298  "
      ]
     },
     "execution_count": 17,
     "metadata": {},
     "output_type": "execute_result"
    }
   ],
   "source": [
    "# predict test-set\n",
    "_, _, test_predictions, test_targets = trainer.validate(test_loader, return_predictions=True)\n",
    "\n",
    "# metric test-set\n",
    "metric = calculate_regression_metrics(test_targets, test_predictions)\n",
    "metric"
   ]
  },
  {
   "cell_type": "code",
   "execution_count": 18,
   "id": "1d780ae8",
   "metadata": {},
   "outputs": [
    {
     "data": {
      "text/plain": [
       "PearsonRResult(statistic=0.8126836743791899, pvalue=0.0)"
      ]
     },
     "execution_count": 18,
     "metadata": {},
     "output_type": "execute_result"
    }
   ],
   "source": [
    "# from sklearn.metrics import r2_score\n",
    "from scipy.stats import pearsonr\n",
    "# r2_score(test_targets[:,0], test_predictions[:,0])\n",
    "# r2_score(test_targets[:,1], test_predictions[:,1])\n",
    "pearsonr(test_targets[:,0], test_targets[:,1])"
   ]
  },
  {
   "cell_type": "code",
   "execution_count": null,
   "id": "e87eae47",
   "metadata": {},
   "outputs": [],
   "source": [
    "import seaborn as sns\n",
    "import matplotlib.pyplot as plt\n",
    "plt.figure(figsize=(10, 5))\n",
    "\n",
    "plt.subplot(1,2,1)\n",
    "sns.scatterplot(x=test_targets[:,0], y=test_predictions[:,0])\n",
    "plt.xlabel(\"target\")\n",
    "plt.ylabel(\"predictions\")\n",
    "plt.title(taskid[0])\n",
    "\n",
    "plt.subplot(1,2,2)\n",
    "sns.scatterplot(x=test_targets[:,1], y=test_predictions[:,1])\n",
    "plt.xlabel(\"target\")\n",
    "plt.ylabel(\"predictions\")\n",
    "plt.title(taskid[1])\n",
    "\n",
    "plt.tight_layout()\n",
    "# plt.savefig(\"Test/Scatter.pdf\", bbox_inches='tight')\n",
    "plt.show()"
   ]
  },
  {
   "cell_type": "markdown",
   "id": "7724d7e1",
   "metadata": {},
   "source": [
    "## ISM\n",
    "The sequence pattern deep learning represented internally for its accurate prediction.\n",
    "\n",
    "Note: DeepSEA architecture have NO `model.Embedding.conv layer`, which is different to the NvTK predifined models.\n",
    "We calculated the first-layer convolutional layer `model.conv_net[0]` as `hook_module` instead.\n",
    "And the `motif_width` could be the filter_size of DeepSEA `model.conv_net[0]`."
   ]
  },
  {
   "cell_type": "code",
   "execution_count": 20,
   "id": "c57fb485",
   "metadata": {},
   "outputs": [],
   "source": [
    "import logomaker\n",
    "os.makedirs(\"ISM\", exist_ok=True)"
   ]
  },
  {
   "cell_type": "code",
   "execution_count": 22,
   "id": "13051256",
   "metadata": {},
   "outputs": [
    {
     "data": {
      "text/plain": [
       "((4230, 87, 4, 2), (4230, 87, 4))"
      ]
     },
     "execution_count": 22,
     "metadata": {},
     "output_type": "execute_result"
    }
   ],
   "source": [
    "ism_score, ism_score_normed = [], []\n",
    "\n",
    "for d, t in test_loader:\n",
    "    d = d.to(device)\n",
    "    t = t.to(device)\n",
    "    ism_s = ism(model, d)\n",
    "    ism_s_n = normalize_ism_score(d, t, ism_s)\n",
    "    ism_score.append(ism_s)\n",
    "    ism_score_normed.append(ism_s_n)\n",
    "\n",
    "ism_score = np.concatenate(ism_score, axis=0)\n",
    "ism_score_normed = np.concatenate(ism_score_normed, axis=0)\n",
    "\n",
    "ism_score.shape, ism_score_normed.shape"
   ]
  }
 ],
 "metadata": {
  "kernelspec": {
   "display_name": "Python [conda env:root] *",
   "language": "python",
   "name": "conda-root-py"
  },
  "language_info": {
   "codemirror_mode": {
    "name": "ipython",
    "version": 3
   },
   "file_extension": ".py",
   "mimetype": "text/x-python",
   "name": "python",
   "nbconvert_exporter": "python",
   "pygments_lexer": "ipython3",
   "version": "3.9.7"
  }
 },
 "nbformat": 4,
 "nbformat_minor": 5
}
