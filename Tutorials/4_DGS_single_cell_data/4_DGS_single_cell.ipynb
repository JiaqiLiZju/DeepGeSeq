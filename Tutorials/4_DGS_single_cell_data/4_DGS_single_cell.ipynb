{
 "cells": [
  {
   "cell_type": "code",
   "execution_count": 1,
   "id": "e02df4ed",
   "metadata": {},
   "outputs": [
    {
     "name": "stdout",
     "output_type": "stream",
     "text": [
      "['/share/home/zhanglab/user/lijiaqi/NvTK_manuscript/4_NvTK_single_cell', '/share/home/zhanglab/user/lijiaqi/tools/cactus-bin-v2.6.12/lib', '/share/home/zhanglab/user/lijiaqi/NvTK_manuscript/4_NvTK_single_cell', '/share/home/zhanglab/user/lijiaqi/anaconda3/lib/python39.zip', '/share/home/zhanglab/user/lijiaqi/anaconda3/lib/python3.9', '/share/home/zhanglab/user/lijiaqi/anaconda3/lib/python3.9/lib-dynload', '', '/share/home/zhanglab/user/lijiaqi/anaconda3/lib/python3.9/site-packages', '/share/home/zhanglab/user/lijiaqi/anaconda3/lib/python3.9/site-packages/locket-0.2.1-py3.9.egg', '/share/home/zhanglab/user/lijiaqi/anaconda3/lib/python3.9/site-packages/IPython/extensions', '/share/home/zhanglab/user/lijiaqi/anaconda3/lib/python3.9/site-packages/setuptools/_vendor', '/share/home/zhanglab/user/lijiaqi/.ipython', '../DeepGeSeq/']\n"
     ]
    }
   ],
   "source": [
    "import sys\n",
    "sys.path.append(\"../DeepGeSeq/\")\n",
    "print(sys.path)"
   ]
  },
  {
   "cell_type": "code",
   "execution_count": 2,
   "id": "b0b9ba6d",
   "metadata": {},
   "outputs": [],
   "source": [
    "import h5py, os, argparse, logging, time\n",
    "\n",
    "import numpy as np\n",
    "import pandas as pd\n",
    "\n",
    "import torch\n",
    "from torch import nn\n",
    "from torch.optim import Adam\n",
    "from torch.utils.data import DataLoader\n",
    "\n",
    "import DGS as dgs\n",
    "from DGS.DL.Trainer import Trainer\n",
    "from DGS.Model.Publications import DeepSEA\n",
    "from DGS.DL.Evaluator import calculate_classification_metrics\n"
   ]
  },
  {
   "cell_type": "code",
   "execution_count": 7,
   "id": "3944a28e",
   "metadata": {},
   "outputs": [],
   "source": [
    "os.makedirs(\"./Log\", exist_ok=True)\n",
    "dgs.initialize_logger(time.strftime('./Log/log_nvtk_deepsea.%m%d.%H:%M:%S.txt'), verbosity=1)\n",
    "\n",
    "# args\n",
    "parser = argparse.ArgumentParser()\n",
    "parser.add_argument(\"data\")\n",
    "parser.add_argument(\"--gpu-device\", dest=\"device_id\", default=\"0\")\n",
    "args = parser.parse_args(['./data_scbasset_tutorial/Dataset.buen_ad_sc.X.h5', \n",
    "                          '--gpu-device', '0'])\n",
    "logging.info(args)\n"
   ]
  },
  {
   "cell_type": "code",
   "execution_count": 8,
   "id": "050bcad9",
   "metadata": {},
   "outputs": [],
   "source": [
    "## change device\n",
    "os.environ[\"CUDA_VISIBLE_DEVICES\"] = args.device_id\n",
    "device = torch.device(\"cuda\" if torch.cuda.is_available() else \"cpu\")"
   ]
  },
  {
   "cell_type": "markdown",
   "id": "2d6ad04c",
   "metadata": {},
   "source": [
    "## Prepare dataset\n",
    "\n",
    "1. unpack the h5file datasets\n",
    "2. generate the DataLoader"
   ]
  },
  {
   "cell_type": "code",
   "execution_count": 9,
   "id": "6f2044c7",
   "metadata": {
    "scrolled": true
   },
   "outputs": [
    {
     "data": {
      "text/plain": [
       "(103151, 4, 2000)"
      ]
     },
     "execution_count": 9,
     "metadata": {},
     "output_type": "execute_result"
    }
   ],
   "source": [
    "# unpack datasets\n",
    "h5file = h5py.File(args.data, 'r')\n",
    "anno = h5file[\"peak\"][:].astype(str)\n",
    "X = h5file[\"X\"][:].swapaxes(1,-1).astype(np.float32)\n",
    "h5file.close()\n",
    "\n",
    "X.shape"
   ]
  },
  {
   "cell_type": "code",
   "execution_count": 10,
   "id": "68699797",
   "metadata": {},
   "outputs": [
    {
     "data": {
      "text/plain": [
       "array([['chr1', '9519', '11519', '182', 'True', 'False'],\n",
       "       ['chr1', '12502', '14502', '41', 'True', 'False'],\n",
       "       ['chr1', '15249', '17249', '49', 'True', 'False'],\n",
       "       ['chr1', '95600', '97600', '107', 'True', 'False'],\n",
       "       ['chr1', '114731', '116731', '21', 'True', 'False']], dtype='<U9')"
      ]
     },
     "execution_count": 10,
     "metadata": {},
     "output_type": "execute_result"
    }
   ],
   "source": [
    "# unpack anno\n",
    "n_tasks = anno.shape[0]\n",
    "anno[:5]"
   ]
  },
  {
   "cell_type": "code",
   "execution_count": 11,
   "id": "bed8a9b3",
   "metadata": {},
   "outputs": [],
   "source": [
    "train_sel = anno[:,4] == 'True'\n",
    "test_sel = anno[:,5] == 'True'"
   ]
  },
  {
   "cell_type": "code",
   "execution_count": 12,
   "id": "a6b27c53",
   "metadata": {},
   "outputs": [
    {
     "data": {
      "text/plain": [
       "((93792, 4, 2000), (5000, 4, 2000), (4359, 4, 2000))"
      ]
     },
     "execution_count": 12,
     "metadata": {},
     "output_type": "execute_result"
    }
   ],
   "source": [
    "x_train = X[train_sel][5000:]\n",
    "x_val = X[train_sel][:5000]\n",
    "x_test = X[test_sel]\n",
    "\n",
    "x_train.shape, x_val.shape, x_test.shape"
   ]
  },
  {
   "cell_type": "code",
   "execution_count": 13,
   "id": "a32e97de",
   "metadata": {},
   "outputs": [
    {
     "data": {
      "text/plain": [
       "AnnData object with n_obs × n_vars = 2034 × 103151\n",
       "    obs: 'cell_barcode', 'label', 'batch'\n",
       "    var: 'chr', 'start', 'end', 'n_cells'\n",
       "    uns: 'label_colors'"
      ]
     },
     "execution_count": 13,
     "metadata": {},
     "output_type": "execute_result"
    }
   ],
   "source": [
    "import anndata\n",
    "fname = \"./data_scbasset_tutorial/buen_ad_sc.h5ad\"\n",
    "ad = anndata.read_h5ad(fname)\n",
    "ad"
   ]
  },
  {
   "cell_type": "code",
   "execution_count": 14,
   "id": "7215f9b0",
   "metadata": {},
   "outputs": [
    {
     "data": {
      "text/plain": [
       "array([  0.,   1.,   2.,   3.,   4.,   5.,   6.,   7.,   8.,   9.,  10.,\n",
       "        11.,  12.,  13.,  14.,  15.,  16.,  17.,  18.,  19.,  20.,  21.,\n",
       "        22.,  23.,  24.,  25.,  26.,  27.,  28.,  29.,  30.,  31.,  32.,\n",
       "        33.,  34.,  35.,  36.,  37.,  38.,  39.,  40.,  41.,  42.,  43.,\n",
       "        44.,  45.,  46.,  47.,  48.,  49.,  50.,  51.,  52.,  53.,  54.,\n",
       "        55.,  56.,  57.,  58.,  59.,  60.,  61.,  62.,  63.,  64.,  65.,\n",
       "        66.,  67.,  68.,  69.,  70.,  71.,  72.,  73.,  74.,  75.,  76.,\n",
       "        77.,  78.,  79.,  80.,  81.,  82.,  83.,  84.,  85.,  86.,  87.,\n",
       "        88.,  89.,  90.,  91.,  92.,  93.,  95.,  96.,  97., 103., 105.,\n",
       "       112., 114., 146.], dtype=float32)"
      ]
     },
     "execution_count": 14,
     "metadata": {},
     "output_type": "execute_result"
    }
   ],
   "source": [
    "Y = ad.to_df().values.T\n",
    "np.unique(Y)"
   ]
  },
  {
   "cell_type": "code",
   "execution_count": 15,
   "id": "336f99be",
   "metadata": {},
   "outputs": [
    {
     "name": "stdout",
     "output_type": "stream",
     "text": [
      "(103151, 2034)\n"
     ]
    },
    {
     "data": {
      "text/plain": [
       "(array([0., 1.], dtype=float32), array([197088765,  12720369]))"
      ]
     },
     "execution_count": 15,
     "metadata": {},
     "output_type": "execute_result"
    }
   ],
   "source": [
    "Y = np.where(Y >= 1, 1., 0.)\n",
    "Y = Y.astype(np.float32)\n",
    "print(Y.shape)\n",
    "\n",
    "np.unique(Y, return_counts=True)"
   ]
  },
  {
   "cell_type": "code",
   "execution_count": 16,
   "id": "c5c11df9",
   "metadata": {},
   "outputs": [],
   "source": [
    "y_train = Y[train_sel][5000:]\n",
    "y_val = Y[train_sel][:5000]\n",
    "y_test = Y[test_sel]"
   ]
  },
  {
   "cell_type": "code",
   "execution_count": 17,
   "id": "e0e486e8",
   "metadata": {},
   "outputs": [],
   "source": [
    "# define data loader\n",
    "batch_size = 1000\n",
    "train_loader = DataLoader(list(zip(x_train, y_train)), batch_size=batch_size,\n",
    "                            shuffle=True, num_workers=0, drop_last=False, pin_memory=True)\n",
    "validate_loader = DataLoader(list(zip(x_val, y_val)), batch_size=batch_size, \n",
    "                            shuffle=False, num_workers=0, drop_last=False, pin_memory=True)\n",
    "test_loader = DataLoader(list(zip(x_test, y_test)), batch_size=batch_size, \n",
    "                            shuffle=False, num_workers=0, drop_last=False, pin_memory=True)"
   ]
  },
  {
   "cell_type": "markdown",
   "id": "b2b148e0",
   "metadata": {},
   "source": [
    "## Define DeepSEA model\n",
    "Initialized DeepSEA architectures in NvTK"
   ]
  },
  {
   "cell_type": "code",
   "execution_count": 19,
   "id": "2b9cdf9c",
   "metadata": {},
   "outputs": [
    {
     "data": {
      "text/plain": [
       "DeepSEA(\n",
       "  (conv_net): Sequential(\n",
       "    (0): Conv1d(4, 320, kernel_size=(8,), stride=(1,))\n",
       "    (1): ReLU(inplace=True)\n",
       "    (2): MaxPool1d(kernel_size=4, stride=4, padding=0, dilation=1, ceil_mode=False)\n",
       "    (3): Dropout(p=0.2, inplace=False)\n",
       "    (4): Conv1d(320, 480, kernel_size=(8,), stride=(1,))\n",
       "    (5): ReLU(inplace=True)\n",
       "    (6): MaxPool1d(kernel_size=4, stride=4, padding=0, dilation=1, ceil_mode=False)\n",
       "    (7): Dropout(p=0.2, inplace=False)\n",
       "    (8): Conv1d(480, 960, kernel_size=(8,), stride=(1,))\n",
       "    (9): ReLU(inplace=True)\n",
       "    (10): Dropout(p=0.5, inplace=False)\n",
       "  )\n",
       "  (classifier): Sequential(\n",
       "    (0): Linear(in_features=110400, out_features=2034, bias=True)\n",
       "    (1): ReLU(inplace=True)\n",
       "    (2): Linear(in_features=2034, out_features=2034, bias=True)\n",
       "    (3): Sigmoid()\n",
       "  )\n",
       ")"
      ]
     },
     "execution_count": 19,
     "metadata": {},
     "output_type": "execute_result"
    }
   ],
   "source": [
    "model = DeepSEA(sequence_length=2000, n_genomic_features=2034)\n",
    "model"
   ]
  },
  {
   "cell_type": "code",
   "execution_count": 20,
   "id": "4c82868b",
   "metadata": {},
   "outputs": [],
   "source": [
    "optimizer = Adam([\n",
    "    {'params': model.conv_net.parameters(), 'lr': 1e-6},\n",
    "    {'params': model.classifier.parameters(), 'lr': 1e-3}])\n",
    "criterion = nn.BCELoss().to(device)\n",
    "trainer = Trainer(model, criterion, optimizer, device, patience=5)\n"
   ]
  },
  {
   "cell_type": "markdown",
   "id": "4c7f6f5b",
   "metadata": {},
   "source": [
    "## Trained the model \n",
    "as an example, we only finetune the DeepSEA model architectures on TFBS sub-dataset for 10 EPOCHs."
   ]
  },
  {
   "cell_type": "code",
   "execution_count": 21,
   "id": "484190d1",
   "metadata": {},
   "outputs": [
    {
     "name": "stderr",
     "output_type": "stream",
     "text": [
      "Epoch 0: 100%|██████████| 94/94 [00:38<00:00,  2.43it/s, loss=0.2201]\n",
      "Epoch 1: 100%|██████████| 94/94 [00:36<00:00,  2.60it/s, loss=0.2008]\n",
      "Epoch 2: 100%|██████████| 94/94 [00:36<00:00,  2.60it/s, loss=0.2002]\n",
      "Epoch 3: 100%|██████████| 94/94 [00:36<00:00,  2.61it/s, loss=0.1993]\n",
      "Epoch 4: 100%|██████████| 94/94 [00:36<00:00,  2.61it/s, loss=0.1996]\n",
      "Epoch 5: 100%|██████████| 94/94 [00:36<00:00,  2.59it/s, loss=0.1998]\n",
      "Epoch 6: 100%|██████████| 94/94 [00:36<00:00,  2.61it/s, loss=0.1992]\n"
     ]
    },
    {
     "data": {
      "text/plain": [
       "TrainerMetrics(train_losses=[0.22013851033246262, 0.2008448285942382, 0.20017939599904608, 0.19934580776285618, 0.19964639573021137, 0.19975779823800352, 0.19917362405264633], val_losses=[0.2436140298843384, 0.22784987688064576, 0.23724244236946107, 0.23283236026763915, 0.2536538541316986, 0.22859518229961395, 0.22966994643211364], train_metrics=[], val_metrics=[], best_val_loss=0.22784987688064576, best_val_metric=0.0, best_epoch=1)"
      ]
     },
     "execution_count": 21,
     "metadata": {},
     "output_type": "execute_result"
    }
   ],
   "source": [
    "# train\n",
    "trainer.train(train_loader, validate_loader, epochs=200)"
   ]
  },
  {
   "cell_type": "code",
   "execution_count": 22,
   "id": "827e342d",
   "metadata": {},
   "outputs": [],
   "source": [
    "# if you have enabled tensorboard\n",
    "# !tensorboard --logdir=runs --bind_all"
   ]
  },
  {
   "cell_type": "markdown",
   "id": "8e6b53b1",
   "metadata": {},
   "source": [
    "## Evaluated the model"
   ]
  },
  {
   "cell_type": "code",
   "execution_count": 24,
   "id": "2b45370e",
   "metadata": {},
   "outputs": [],
   "source": [
    "os.makedirs(\"Metric\", exist_ok=True)\n",
    "\n",
    "# predict test-set\n",
    "_, _, test_predictions, test_targets = trainer.validate(test_loader, return_predictions=True)"
   ]
  },
  {
   "cell_type": "code",
   "execution_count": 27,
   "id": "5178883f",
   "metadata": {},
   "outputs": [
    {
     "data": {
      "text/html": [
       "<div>\n",
       "<style scoped>\n",
       "    .dataframe tbody tr th:only-of-type {\n",
       "        vertical-align: middle;\n",
       "    }\n",
       "\n",
       "    .dataframe tbody tr th {\n",
       "        vertical-align: top;\n",
       "    }\n",
       "\n",
       "    .dataframe thead th {\n",
       "        text-align: right;\n",
       "    }\n",
       "</style>\n",
       "<table border=\"1\" class=\"dataframe\">\n",
       "  <thead>\n",
       "    <tr style=\"text-align: right;\">\n",
       "      <th></th>\n",
       "      <th>auroc</th>\n",
       "      <th>auprc</th>\n",
       "      <th>f1</th>\n",
       "      <th>accuracy</th>\n",
       "    </tr>\n",
       "  </thead>\n",
       "  <tbody>\n",
       "    <tr>\n",
       "      <th>task_0</th>\n",
       "      <td>0.756619</td>\n",
       "      <td>0.045089</td>\n",
       "      <td>0.000000</td>\n",
       "      <td>0.988529</td>\n",
       "    </tr>\n",
       "    <tr>\n",
       "      <th>task_1</th>\n",
       "      <td>0.843397</td>\n",
       "      <td>0.026689</td>\n",
       "      <td>0.000000</td>\n",
       "      <td>0.994494</td>\n",
       "    </tr>\n",
       "    <tr>\n",
       "      <th>task_2</th>\n",
       "      <td>0.780029</td>\n",
       "      <td>0.042568</td>\n",
       "      <td>0.000000</td>\n",
       "      <td>0.986924</td>\n",
       "    </tr>\n",
       "    <tr>\n",
       "      <th>task_3</th>\n",
       "      <td>0.812679</td>\n",
       "      <td>0.059723</td>\n",
       "      <td>0.000000</td>\n",
       "      <td>0.988300</td>\n",
       "    </tr>\n",
       "    <tr>\n",
       "      <th>task_4</th>\n",
       "      <td>0.753254</td>\n",
       "      <td>0.042914</td>\n",
       "      <td>0.000000</td>\n",
       "      <td>0.992429</td>\n",
       "    </tr>\n",
       "    <tr>\n",
       "      <th>...</th>\n",
       "      <td>...</td>\n",
       "      <td>...</td>\n",
       "      <td>...</td>\n",
       "      <td>...</td>\n",
       "    </tr>\n",
       "    <tr>\n",
       "      <th>task_2029</th>\n",
       "      <td>0.654942</td>\n",
       "      <td>0.287538</td>\n",
       "      <td>0.032626</td>\n",
       "      <td>0.863960</td>\n",
       "    </tr>\n",
       "    <tr>\n",
       "      <th>task_2030</th>\n",
       "      <td>0.738141</td>\n",
       "      <td>0.032840</td>\n",
       "      <td>0.000000</td>\n",
       "      <td>0.988071</td>\n",
       "    </tr>\n",
       "    <tr>\n",
       "      <th>task_2031</th>\n",
       "      <td>0.678246</td>\n",
       "      <td>0.176165</td>\n",
       "      <td>0.000000</td>\n",
       "      <td>0.926359</td>\n",
       "    </tr>\n",
       "    <tr>\n",
       "      <th>task_2032</th>\n",
       "      <td>0.733930</td>\n",
       "      <td>0.143608</td>\n",
       "      <td>0.000000</td>\n",
       "      <td>0.953889</td>\n",
       "    </tr>\n",
       "    <tr>\n",
       "      <th>task_2033</th>\n",
       "      <td>0.701673</td>\n",
       "      <td>0.104144</td>\n",
       "      <td>0.000000</td>\n",
       "      <td>0.963524</td>\n",
       "    </tr>\n",
       "  </tbody>\n",
       "</table>\n",
       "<p>2034 rows × 4 columns</p>\n",
       "</div>"
      ],
      "text/plain": [
       "              auroc     auprc        f1  accuracy\n",
       "task_0     0.756619  0.045089  0.000000  0.988529\n",
       "task_1     0.843397  0.026689  0.000000  0.994494\n",
       "task_2     0.780029  0.042568  0.000000  0.986924\n",
       "task_3     0.812679  0.059723  0.000000  0.988300\n",
       "task_4     0.753254  0.042914  0.000000  0.992429\n",
       "...             ...       ...       ...       ...\n",
       "task_2029  0.654942  0.287538  0.032626  0.863960\n",
       "task_2030  0.738141  0.032840  0.000000  0.988071\n",
       "task_2031  0.678246  0.176165  0.000000  0.926359\n",
       "task_2032  0.733930  0.143608  0.000000  0.953889\n",
       "task_2033  0.701673  0.104144  0.000000  0.963524\n",
       "\n",
       "[2034 rows x 4 columns]"
      ]
     },
     "execution_count": 27,
     "metadata": {},
     "output_type": "execute_result"
    }
   ],
   "source": [
    "# metric test-set\n",
    "metric = calculate_classification_metrics(test_targets.cpu().data.numpy(), test_predictions.cpu().data.numpy())\n",
    "metric"
   ]
  },
  {
   "cell_type": "code",
   "execution_count": 29,
   "id": "cd28d5c5",
   "metadata": {},
   "outputs": [
    {
     "data": {
      "text/html": [
       "<div>\n",
       "<style scoped>\n",
       "    .dataframe tbody tr th:only-of-type {\n",
       "        vertical-align: middle;\n",
       "    }\n",
       "\n",
       "    .dataframe tbody tr th {\n",
       "        vertical-align: top;\n",
       "    }\n",
       "\n",
       "    .dataframe thead th {\n",
       "        text-align: right;\n",
       "    }\n",
       "</style>\n",
       "<table border=\"1\" class=\"dataframe\">\n",
       "  <thead>\n",
       "    <tr style=\"text-align: right;\">\n",
       "      <th></th>\n",
       "      <th>auroc</th>\n",
       "      <th>auprc</th>\n",
       "      <th>f1</th>\n",
       "      <th>accuracy</th>\n",
       "    </tr>\n",
       "  </thead>\n",
       "  <tbody>\n",
       "    <tr>\n",
       "      <th>peak_0</th>\n",
       "      <td>0.766426</td>\n",
       "      <td>0.111578</td>\n",
       "      <td>0.000000</td>\n",
       "      <td>0.968535</td>\n",
       "    </tr>\n",
       "    <tr>\n",
       "      <th>peak_1</th>\n",
       "      <td>0.742934</td>\n",
       "      <td>0.469718</td>\n",
       "      <td>0.124031</td>\n",
       "      <td>0.777778</td>\n",
       "    </tr>\n",
       "    <tr>\n",
       "      <th>peak_2</th>\n",
       "      <td>0.720895</td>\n",
       "      <td>0.212748</td>\n",
       "      <td>0.195918</td>\n",
       "      <td>0.903147</td>\n",
       "    </tr>\n",
       "    <tr>\n",
       "      <th>peak_3</th>\n",
       "      <td>0.742817</td>\n",
       "      <td>0.031273</td>\n",
       "      <td>0.000000</td>\n",
       "      <td>0.987217</td>\n",
       "    </tr>\n",
       "    <tr>\n",
       "      <th>peak_4</th>\n",
       "      <td>0.711647</td>\n",
       "      <td>0.039359</td>\n",
       "      <td>0.000000</td>\n",
       "      <td>0.980334</td>\n",
       "    </tr>\n",
       "    <tr>\n",
       "      <th>...</th>\n",
       "      <td>...</td>\n",
       "      <td>...</td>\n",
       "      <td>...</td>\n",
       "      <td>...</td>\n",
       "    </tr>\n",
       "    <tr>\n",
       "      <th>peak_4354</th>\n",
       "      <td>0.732515</td>\n",
       "      <td>0.041806</td>\n",
       "      <td>0.000000</td>\n",
       "      <td>0.988692</td>\n",
       "    </tr>\n",
       "    <tr>\n",
       "      <th>peak_4355</th>\n",
       "      <td>0.710124</td>\n",
       "      <td>0.103407</td>\n",
       "      <td>0.000000</td>\n",
       "      <td>0.963127</td>\n",
       "    </tr>\n",
       "    <tr>\n",
       "      <th>peak_4356</th>\n",
       "      <td>0.720398</td>\n",
       "      <td>0.437161</td>\n",
       "      <td>0.062222</td>\n",
       "      <td>0.792527</td>\n",
       "    </tr>\n",
       "    <tr>\n",
       "      <th>peak_4357</th>\n",
       "      <td>0.414468</td>\n",
       "      <td>0.009750</td>\n",
       "      <td>0.000000</td>\n",
       "      <td>0.989184</td>\n",
       "    </tr>\n",
       "    <tr>\n",
       "      <th>peak_4358</th>\n",
       "      <td>0.678831</td>\n",
       "      <td>0.040525</td>\n",
       "      <td>0.000000</td>\n",
       "      <td>0.981318</td>\n",
       "    </tr>\n",
       "  </tbody>\n",
       "</table>\n",
       "<p>4359 rows × 4 columns</p>\n",
       "</div>"
      ],
      "text/plain": [
       "              auroc     auprc        f1  accuracy\n",
       "peak_0     0.766426  0.111578  0.000000  0.968535\n",
       "peak_1     0.742934  0.469718  0.124031  0.777778\n",
       "peak_2     0.720895  0.212748  0.195918  0.903147\n",
       "peak_3     0.742817  0.031273  0.000000  0.987217\n",
       "peak_4     0.711647  0.039359  0.000000  0.980334\n",
       "...             ...       ...       ...       ...\n",
       "peak_4354  0.732515  0.041806  0.000000  0.988692\n",
       "peak_4355  0.710124  0.103407  0.000000  0.963127\n",
       "peak_4356  0.720398  0.437161  0.062222  0.792527\n",
       "peak_4357  0.414468  0.009750  0.000000  0.989184\n",
       "peak_4358  0.678831  0.040525  0.000000  0.981318\n",
       "\n",
       "[4359 rows x 4 columns]"
      ]
     },
     "execution_count": 29,
     "metadata": {},
     "output_type": "execute_result"
    }
   ],
   "source": [
    "# metric test-set\n",
    "metric = calculate_classification_metrics(test_targets.cpu().data.numpy().T, test_predictions.cpu().data.numpy().T)\n",
    "metric.index = [\"peak_\"+str(i) for i in range(metric.shape[0])]\n",
    "metric"
   ]
  },
  {
   "cell_type": "code",
   "execution_count": 62,
   "id": "ce4410d4",
   "metadata": {},
   "outputs": [],
   "source": [
    "# show_auc_curve(fpr=fpr, tpr=tpr, roc_auc=roc_auc, save=False, fig_size=(5, 4))"
   ]
  },
  {
   "cell_type": "markdown",
   "id": "f60f4450",
   "metadata": {},
   "source": [
    "## Benchmark"
   ]
  },
  {
   "cell_type": "code",
   "execution_count": 30,
   "id": "dd9500cc",
   "metadata": {},
   "outputs": [
    {
     "data": {
      "text/html": [
       "<div>\n",
       "<style scoped>\n",
       "    .dataframe tbody tr th:only-of-type {\n",
       "        vertical-align: middle;\n",
       "    }\n",
       "\n",
       "    .dataframe tbody tr th {\n",
       "        vertical-align: top;\n",
       "    }\n",
       "\n",
       "    .dataframe thead th {\n",
       "        text-align: right;\n",
       "    }\n",
       "</style>\n",
       "<table border=\"1\" class=\"dataframe\">\n",
       "  <thead>\n",
       "    <tr style=\"text-align: right;\">\n",
       "      <th></th>\n",
       "      <th>cell_barcode</th>\n",
       "      <th>label</th>\n",
       "      <th>batch</th>\n",
       "    </tr>\n",
       "  </thead>\n",
       "  <tbody>\n",
       "    <tr>\n",
       "      <th>BM1077-CLP-Frozen-160106-13</th>\n",
       "      <td>BM1077-CLP-Frozen-160106-13</td>\n",
       "      <td>CLP</td>\n",
       "      <td>BM1077</td>\n",
       "    </tr>\n",
       "    <tr>\n",
       "      <th>BM1077-CLP-Frozen-160106-14</th>\n",
       "      <td>BM1077-CLP-Frozen-160106-14</td>\n",
       "      <td>CLP</td>\n",
       "      <td>BM1077</td>\n",
       "    </tr>\n",
       "    <tr>\n",
       "      <th>BM1077-CLP-Frozen-160106-2</th>\n",
       "      <td>BM1077-CLP-Frozen-160106-2</td>\n",
       "      <td>CLP</td>\n",
       "      <td>BM1077</td>\n",
       "    </tr>\n",
       "    <tr>\n",
       "      <th>BM1077-CLP-Frozen-160106-21</th>\n",
       "      <td>BM1077-CLP-Frozen-160106-21</td>\n",
       "      <td>CLP</td>\n",
       "      <td>BM1077</td>\n",
       "    </tr>\n",
       "    <tr>\n",
       "      <th>BM1077-CLP-Frozen-160106-27</th>\n",
       "      <td>BM1077-CLP-Frozen-160106-27</td>\n",
       "      <td>CLP</td>\n",
       "      <td>BM1077</td>\n",
       "    </tr>\n",
       "  </tbody>\n",
       "</table>\n",
       "</div>"
      ],
      "text/plain": [
       "                                            cell_barcode label   batch\n",
       "BM1077-CLP-Frozen-160106-13  BM1077-CLP-Frozen-160106-13   CLP  BM1077\n",
       "BM1077-CLP-Frozen-160106-14  BM1077-CLP-Frozen-160106-14   CLP  BM1077\n",
       "BM1077-CLP-Frozen-160106-2    BM1077-CLP-Frozen-160106-2   CLP  BM1077\n",
       "BM1077-CLP-Frozen-160106-21  BM1077-CLP-Frozen-160106-21   CLP  BM1077\n",
       "BM1077-CLP-Frozen-160106-27  BM1077-CLP-Frozen-160106-27   CLP  BM1077"
      ]
     },
     "execution_count": 30,
     "metadata": {},
     "output_type": "execute_result"
    }
   ],
   "source": [
    "cellanno = ad.obs.copy()\n",
    "cellanno.index.name = None\n",
    "cellanno.head()"
   ]
  },
  {
   "cell_type": "code",
   "execution_count": 31,
   "id": "aa7e30a4",
   "metadata": {},
   "outputs": [
    {
     "data": {
      "text/html": [
       "<div>\n",
       "<style scoped>\n",
       "    .dataframe tbody tr th:only-of-type {\n",
       "        vertical-align: middle;\n",
       "    }\n",
       "\n",
       "    .dataframe tbody tr th {\n",
       "        vertical-align: top;\n",
       "    }\n",
       "\n",
       "    .dataframe thead th {\n",
       "        text-align: right;\n",
       "    }\n",
       "</style>\n",
       "<table border=\"1\" class=\"dataframe\">\n",
       "  <thead>\n",
       "    <tr style=\"text-align: right;\">\n",
       "      <th></th>\n",
       "      <th>auroc</th>\n",
       "      <th>aupr</th>\n",
       "    </tr>\n",
       "  </thead>\n",
       "  <tbody>\n",
       "    <tr>\n",
       "      <th>0</th>\n",
       "      <td>0.785941</td>\n",
       "      <td>0.074764</td>\n",
       "    </tr>\n",
       "    <tr>\n",
       "      <th>1</th>\n",
       "      <td>0.843704</td>\n",
       "      <td>0.073117</td>\n",
       "    </tr>\n",
       "    <tr>\n",
       "      <th>2</th>\n",
       "      <td>0.764756</td>\n",
       "      <td>0.061296</td>\n",
       "    </tr>\n",
       "    <tr>\n",
       "      <th>3</th>\n",
       "      <td>0.827275</td>\n",
       "      <td>0.078910</td>\n",
       "    </tr>\n",
       "    <tr>\n",
       "      <th>4</th>\n",
       "      <td>0.758206</td>\n",
       "      <td>0.072712</td>\n",
       "    </tr>\n",
       "  </tbody>\n",
       "</table>\n",
       "</div>"
      ],
      "text/plain": [
       "      auroc      aupr\n",
       "0  0.785941  0.074764\n",
       "1  0.843704  0.073117\n",
       "2  0.764756  0.061296\n",
       "3  0.827275  0.078910\n",
       "4  0.758206  0.072712"
      ]
     },
     "execution_count": 31,
     "metadata": {},
     "output_type": "execute_result"
    }
   ],
   "source": [
    "metric = pd.read_csv(\"Metric/Metric.perCell.csv\", index_col=0)\n",
    "metric.head()"
   ]
  },
  {
   "cell_type": "code",
   "execution_count": 32,
   "id": "db335413",
   "metadata": {},
   "outputs": [
    {
     "data": {
      "text/html": [
       "<div>\n",
       "<style scoped>\n",
       "    .dataframe tbody tr th:only-of-type {\n",
       "        vertical-align: middle;\n",
       "    }\n",
       "\n",
       "    .dataframe tbody tr th {\n",
       "        vertical-align: top;\n",
       "    }\n",
       "\n",
       "    .dataframe thead th {\n",
       "        text-align: right;\n",
       "    }\n",
       "</style>\n",
       "<table border=\"1\" class=\"dataframe\">\n",
       "  <thead>\n",
       "    <tr style=\"text-align: right;\">\n",
       "      <th></th>\n",
       "      <th>auroc</th>\n",
       "      <th>aupr</th>\n",
       "      <th>celltype</th>\n",
       "      <th>batch</th>\n",
       "    </tr>\n",
       "  </thead>\n",
       "  <tbody>\n",
       "    <tr>\n",
       "      <th>0</th>\n",
       "      <td>0.785941</td>\n",
       "      <td>0.074764</td>\n",
       "      <td>CLP</td>\n",
       "      <td>BM1077</td>\n",
       "    </tr>\n",
       "    <tr>\n",
       "      <th>1</th>\n",
       "      <td>0.843704</td>\n",
       "      <td>0.073117</td>\n",
       "      <td>CLP</td>\n",
       "      <td>BM1077</td>\n",
       "    </tr>\n",
       "    <tr>\n",
       "      <th>2</th>\n",
       "      <td>0.764756</td>\n",
       "      <td>0.061296</td>\n",
       "      <td>CLP</td>\n",
       "      <td>BM1077</td>\n",
       "    </tr>\n",
       "    <tr>\n",
       "      <th>3</th>\n",
       "      <td>0.827275</td>\n",
       "      <td>0.078910</td>\n",
       "      <td>CLP</td>\n",
       "      <td>BM1077</td>\n",
       "    </tr>\n",
       "    <tr>\n",
       "      <th>4</th>\n",
       "      <td>0.758206</td>\n",
       "      <td>0.072712</td>\n",
       "      <td>CLP</td>\n",
       "      <td>BM1077</td>\n",
       "    </tr>\n",
       "  </tbody>\n",
       "</table>\n",
       "</div>"
      ],
      "text/plain": [
       "      auroc      aupr celltype   batch\n",
       "0  0.785941  0.074764      CLP  BM1077\n",
       "1  0.843704  0.073117      CLP  BM1077\n",
       "2  0.764756  0.061296      CLP  BM1077\n",
       "3  0.827275  0.078910      CLP  BM1077\n",
       "4  0.758206  0.072712      CLP  BM1077"
      ]
     },
     "execution_count": 32,
     "metadata": {},
     "output_type": "execute_result"
    }
   ],
   "source": [
    "metric['celltype'] = cellanno['label'].values\n",
    "metric['batch'] = cellanno['batch'].values\n",
    "metric.head()"
   ]
  },
  {
   "cell_type": "code",
   "execution_count": null,
   "id": "18387022",
   "metadata": {},
   "outputs": [],
   "source": []
  }
 ],
 "metadata": {
  "kernelspec": {
   "display_name": "Python [conda env:root] *",
   "language": "python",
   "name": "conda-root-py"
  },
  "language_info": {
   "codemirror_mode": {
    "name": "ipython",
    "version": 3
   },
   "file_extension": ".py",
   "mimetype": "text/x-python",
   "name": "python",
   "nbconvert_exporter": "python",
   "pygments_lexer": "ipython3",
   "version": "3.9.7"
  }
 },
 "nbformat": 4,
 "nbformat_minor": 5
}
