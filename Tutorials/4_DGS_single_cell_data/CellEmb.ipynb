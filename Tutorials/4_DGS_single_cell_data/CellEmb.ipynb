{
 "cells": [
  {
   "cell_type": "code",
   "execution_count": 18,
   "id": "f5abace4",
   "metadata": {},
   "outputs": [],
   "source": [
    "import numpy as np\n",
    "import pandas as pd\n",
    "import scanpy as sc"
   ]
  },
  {
   "cell_type": "code",
   "execution_count": 19,
   "id": "bc80e6ba",
   "metadata": {},
   "outputs": [
    {
     "data": {
      "text/html": [
       "<div>\n",
       "<style scoped>\n",
       "    .dataframe tbody tr th:only-of-type {\n",
       "        vertical-align: middle;\n",
       "    }\n",
       "\n",
       "    .dataframe tbody tr th {\n",
       "        vertical-align: top;\n",
       "    }\n",
       "\n",
       "    .dataframe thead th {\n",
       "        text-align: right;\n",
       "    }\n",
       "</style>\n",
       "<table border=\"1\" class=\"dataframe\">\n",
       "  <thead>\n",
       "    <tr style=\"text-align: right;\">\n",
       "      <th></th>\n",
       "      <th>cell_barcode</th>\n",
       "      <th>label</th>\n",
       "      <th>batch</th>\n",
       "    </tr>\n",
       "    <tr>\n",
       "      <th>x</th>\n",
       "      <th></th>\n",
       "      <th></th>\n",
       "      <th></th>\n",
       "    </tr>\n",
       "  </thead>\n",
       "  <tbody>\n",
       "    <tr>\n",
       "      <th>BM1077-CLP-Frozen-160106-13</th>\n",
       "      <td>BM1077-CLP-Frozen-160106-13</td>\n",
       "      <td>CLP</td>\n",
       "      <td>BM1077</td>\n",
       "    </tr>\n",
       "    <tr>\n",
       "      <th>BM1077-CLP-Frozen-160106-14</th>\n",
       "      <td>BM1077-CLP-Frozen-160106-14</td>\n",
       "      <td>CLP</td>\n",
       "      <td>BM1077</td>\n",
       "    </tr>\n",
       "    <tr>\n",
       "      <th>BM1077-CLP-Frozen-160106-2</th>\n",
       "      <td>BM1077-CLP-Frozen-160106-2</td>\n",
       "      <td>CLP</td>\n",
       "      <td>BM1077</td>\n",
       "    </tr>\n",
       "    <tr>\n",
       "      <th>BM1077-CLP-Frozen-160106-21</th>\n",
       "      <td>BM1077-CLP-Frozen-160106-21</td>\n",
       "      <td>CLP</td>\n",
       "      <td>BM1077</td>\n",
       "    </tr>\n",
       "    <tr>\n",
       "      <th>BM1077-CLP-Frozen-160106-27</th>\n",
       "      <td>BM1077-CLP-Frozen-160106-27</td>\n",
       "      <td>CLP</td>\n",
       "      <td>BM1077</td>\n",
       "    </tr>\n",
       "  </tbody>\n",
       "</table>\n",
       "</div>"
      ],
      "text/plain": [
       "                                            cell_barcode label   batch\n",
       "x                                                                     \n",
       "BM1077-CLP-Frozen-160106-13  BM1077-CLP-Frozen-160106-13   CLP  BM1077\n",
       "BM1077-CLP-Frozen-160106-14  BM1077-CLP-Frozen-160106-14   CLP  BM1077\n",
       "BM1077-CLP-Frozen-160106-2    BM1077-CLP-Frozen-160106-2   CLP  BM1077\n",
       "BM1077-CLP-Frozen-160106-21  BM1077-CLP-Frozen-160106-21   CLP  BM1077\n",
       "BM1077-CLP-Frozen-160106-27  BM1077-CLP-Frozen-160106-27   CLP  BM1077"
      ]
     },
     "execution_count": 19,
     "metadata": {},
     "output_type": "execute_result"
    }
   ],
   "source": [
    "import anndata\n",
    "fname = \"../data_scbasset_tutorial/buen_ad_sc.h5ad\"\n",
    "ad = anndata.read_h5ad(fname)\n",
    "cellanno = ad.obs.copy()\n",
    "cellanno.head()"
   ]
  },
  {
   "cell_type": "code",
   "execution_count": 20,
   "id": "1b0887d8",
   "metadata": {
    "scrolled": true
   },
   "outputs": [
    {
     "name": "stderr",
     "output_type": "stream",
     "text": [
      "/tmp/ipykernel_2946225/4112703141.py:2: FutureWarning: You are using `torch.load` with `weights_only=False` (the current default value), which uses the default pickle module implicitly. It is possible to construct malicious pickle data which will execute arbitrary code during unpickling (See https://github.com/pytorch/pytorch/blob/main/SECURITY.md#untrusted-models for more details). In a future release, the default value for `weights_only` will be flipped to `True`. This limits the functions that could be executed during unpickling. Arbitrary objects will no longer be allowed to be loaded via this mode unless they are explicitly allowlisted by the user via `torch.serialization.add_safe_globals`. We recommend you start setting `weights_only=True` for any use case where you don't have full control of the loaded file. Please open an issue on GitHub for any issues related to this experimental feature.\n",
      "  d = torch.load(\"Log/chekc_model.pth\")\n"
     ]
    },
    {
     "data": {
      "text/plain": [
       "odict_keys(['conv.0.weight', 'conv.0.bias', 'conv.2.fn.0.weight', 'conv.2.fn.0.bias', 'conv.5.weight', 'conv.5.bias', 'conv.7.fn.0.weight', 'conv.7.fn.0.bias', 'conv.10.weight', 'conv.10.bias', 'conv.12.fn.0.weight', 'conv.12.fn.0.bias', 'conv.15.weight', 'conv.15.bias', 'conv.17.fn.0.weight', 'conv.17.fn.0.bias', 'linear.0.weight', 'linear.0.bias', 'linear.2.weight'])"
      ]
     },
     "execution_count": 20,
     "metadata": {},
     "output_type": "execute_result"
    }
   ],
   "source": [
    "import torch\n",
    "d = torch.load(\"Log/chekc_model.pth\")\n",
    "d.keys()"
   ]
  },
  {
   "cell_type": "code",
   "execution_count": 21,
   "id": "256286b7",
   "metadata": {
    "scrolled": true
   },
   "outputs": [
    {
     "data": {
      "text/plain": [
       "(2034, 128)"
      ]
     },
     "execution_count": 21,
     "metadata": {},
     "output_type": "execute_result"
    }
   ],
   "source": [
    "cell_weight = d['linear.2.weight'].cpu().data.numpy()\n",
    "cell_weight.shape"
   ]
  },
  {
   "cell_type": "code",
   "execution_count": 22,
   "id": "51b14d7e",
   "metadata": {},
   "outputs": [],
   "source": [
    "ad.obsm['projection'] = cell_weight\n",
    "sc.pp.neighbors(ad, use_rep='projection')"
   ]
  },
  {
   "cell_type": "code",
   "execution_count": null,
   "id": "17ffaa28",
   "metadata": {},
   "outputs": [],
   "source": [
    "sc.tl.tsne(ad, use_rep='projection', n_jobs=8)\n",
    "sc.pl.tsne(ad, color=['label', 'batch'])"
   ]
  }
 ],
 "metadata": {
  "kernelspec": {
   "display_name": "Python [conda env:sc]",
   "language": "python",
   "name": "conda-env-sc-py"
  },
  "language_info": {
   "codemirror_mode": {
    "name": "ipython",
    "version": 3
   },
   "file_extension": ".py",
   "mimetype": "text/x-python",
   "name": "python",
   "nbconvert_exporter": "python",
   "pygments_lexer": "ipython3",
   "version": "3.9.19"
  }
 },
 "nbformat": 4,
 "nbformat_minor": 5
}
