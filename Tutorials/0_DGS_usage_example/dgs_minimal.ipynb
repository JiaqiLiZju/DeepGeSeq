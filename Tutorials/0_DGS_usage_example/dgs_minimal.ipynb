{
 "cells": [
  {
   "cell_type": "markdown",
   "metadata": {},
   "source": [
    "# The minimal experiment in DGS\n",
    "\n",
    "DGS minimized the deep-learning experiment on sequence data and single cell data with a simple config.json file. \n",
    "\n",
    "The minimal experiment could be simplified as two steps:\n",
    "\n",
    "1. prepare the dataset in a required format. \n",
    "\n",
    "2. prepare template config.json file. Note the config should be authorized in DGS, please make sure you have read the document first."
   ]
  },
  {
   "cell_type": "code",
   "execution_count": 1,
   "metadata": {},
   "outputs": [
    {
     "name": "stdout",
     "output_type": "stream",
     "text": [
      "['/share/home/zhanglab/user/lijiaqi/NvTK_manuscript/0_DGS_usage_example', '/share/home/zhanglab/user/lijiaqi/tools/cactus-bin-v2.6.12/lib', '/share/home/zhanglab/user/lijiaqi/NvTK_manuscript/0_DGS_usage_example', '/share/home/zhanglab/user/lijiaqi/anaconda3/lib/python39.zip', '/share/home/zhanglab/user/lijiaqi/anaconda3/lib/python3.9', '/share/home/zhanglab/user/lijiaqi/anaconda3/lib/python3.9/lib-dynload', '', '/share/home/zhanglab/user/lijiaqi/anaconda3/lib/python3.9/site-packages', '/share/home/zhanglab/user/lijiaqi/anaconda3/lib/python3.9/site-packages/locket-0.2.1-py3.9.egg', '/share/home/zhanglab/user/lijiaqi/anaconda3/lib/python3.9/site-packages/IPython/extensions', '/share/home/zhanglab/user/lijiaqi/anaconda3/lib/python3.9/site-packages/setuptools/_vendor', '/share/home/zhanglab/user/lijiaqi/.ipython', '../DeepGeSeq/']\n"
     ]
    }
   ],
   "source": [
    "import sys\n",
    "sys.path.append(\"../DeepGeSeq/\")\n",
    "print(sys.path)"
   ]
  },
  {
   "cell_type": "code",
   "execution_count": 2,
   "metadata": {},
   "outputs": [],
   "source": [
    "from DGS.Cli import DgsCLI\n",
    "from DGS import setup_environment\n",
    "from DGS.Config import ConfigManager \n"
   ]
  },
  {
   "cell_type": "code",
   "execution_count": 3,
   "metadata": {},
   "outputs": [
    {
     "name": "stdout",
     "output_type": "stream",
     "text": [
      "PyTorch benchmark mode enabled\n",
      "Using device: cuda:0\n",
      "Initializing components...\n",
      "Initializing model...\n",
      "Initializing optimizer...\n",
      "Initializing criterion...\n",
      "Initializing trainer...\n",
      "Starting training mode...\n",
      "Preparing data for training...\n",
      "Training model...\n"
     ]
    },
    {
     "name": "stderr",
     "output_type": "stream",
     "text": [
      "Epoch 0: 100%|██████████| 1500/1500 [00:08<00:00, 186.45it/s, loss=126.4709]\n"
     ]
    },
    {
     "name": "stdout",
     "output_type": "stream",
     "text": [
      "Saved checkpoint to checkpoint/best_model.pt\n",
      "\n",
      "==================================================\n",
      "Epoch: 0\n",
      "Time: 8.87s\n",
      "Training Loss: 126.4709\n",
      "Validation Loss: 73.0621\n",
      "Validation Metric: 0.0000\n",
      "Best Validation Loss: 73.0621\n",
      "Best Validation Metric: 0.0000\n",
      "Best Epoch: 0\n",
      "==================================================\n",
      "\n"
     ]
    },
    {
     "name": "stderr",
     "output_type": "stream",
     "text": [
      "Epoch 1: 100%|██████████| 1500/1500 [00:05<00:00, 260.71it/s, loss=51.5525]\n"
     ]
    },
    {
     "name": "stdout",
     "output_type": "stream",
     "text": [
      "Saved checkpoint to checkpoint/best_model.pt\n",
      "\n",
      "==================================================\n",
      "Epoch: 1\n",
      "Time: 6.53s\n",
      "Training Loss: 51.5525\n",
      "Validation Loss: 57.4303\n",
      "Validation Metric: 0.0000\n",
      "Best Validation Loss: 57.4303\n",
      "Best Validation Metric: 0.0000\n",
      "Best Epoch: 1\n",
      "==================================================\n",
      "\n"
     ]
    },
    {
     "name": "stderr",
     "output_type": "stream",
     "text": [
      "Epoch 2: 100%|██████████| 1500/1500 [00:05<00:00, 259.10it/s, loss=51.3748]\n"
     ]
    },
    {
     "name": "stdout",
     "output_type": "stream",
     "text": [
      "\n",
      "==================================================\n",
      "Epoch: 2\n",
      "Time: 6.54s\n",
      "Training Loss: 51.3748\n",
      "Validation Loss: 61.1118\n",
      "Validation Metric: 0.0000\n",
      "Best Validation Loss: 57.4303\n",
      "Best Validation Metric: 0.0000\n",
      "Best Epoch: 1\n",
      "==================================================\n",
      "\n"
     ]
    },
    {
     "name": "stderr",
     "output_type": "stream",
     "text": [
      "Epoch 3: 100%|██████████| 1500/1500 [00:05<00:00, 257.73it/s, loss=49.0535]\n"
     ]
    },
    {
     "name": "stdout",
     "output_type": "stream",
     "text": [
      "\n",
      "==================================================\n",
      "Epoch: 3\n",
      "Time: 6.57s\n",
      "Training Loss: 49.0535\n",
      "Validation Loss: 61.4875\n",
      "Validation Metric: 0.0000\n",
      "Best Validation Loss: 57.4303\n",
      "Best Validation Metric: 0.0000\n",
      "Best Epoch: 1\n",
      "==================================================\n",
      "\n"
     ]
    },
    {
     "name": "stderr",
     "output_type": "stream",
     "text": [
      "Epoch 4: 100%|██████████| 1500/1500 [00:05<00:00, 258.84it/s, loss=47.6977]\n"
     ]
    },
    {
     "name": "stdout",
     "output_type": "stream",
     "text": [
      "Saved checkpoint to checkpoint/best_model.pt\n",
      "\n",
      "==================================================\n",
      "Epoch: 4\n",
      "Time: 6.57s\n",
      "Training Loss: 47.6977\n",
      "Validation Loss: 52.7163\n",
      "Validation Metric: 0.0000\n",
      "Best Validation Loss: 52.7163\n",
      "Best Validation Metric: 0.0000\n",
      "Best Epoch: 4\n",
      "==================================================\n",
      "\n"
     ]
    },
    {
     "name": "stderr",
     "output_type": "stream",
     "text": [
      "Epoch 5: 100%|██████████| 1500/1500 [00:05<00:00, 260.23it/s, loss=47.5924]\n"
     ]
    },
    {
     "name": "stdout",
     "output_type": "stream",
     "text": [
      "Saved checkpoint to checkpoint/best_model.pt\n",
      "\n",
      "==================================================\n",
      "Epoch: 5\n",
      "Time: 6.54s\n",
      "Training Loss: 47.5924\n",
      "Validation Loss: 52.0628\n",
      "Validation Metric: 0.0000\n",
      "Best Validation Loss: 52.0628\n",
      "Best Validation Metric: 0.0000\n",
      "Best Epoch: 5\n",
      "==================================================\n",
      "\n"
     ]
    },
    {
     "name": "stderr",
     "output_type": "stream",
     "text": [
      "Epoch 6: 100%|██████████| 1500/1500 [00:05<00:00, 260.02it/s, loss=46.5477]\n"
     ]
    },
    {
     "name": "stdout",
     "output_type": "stream",
     "text": [
      "\n",
      "==================================================\n",
      "Epoch: 6\n",
      "Time: 6.52s\n",
      "Training Loss: 46.5477\n",
      "Validation Loss: 52.6500\n",
      "Validation Metric: 0.0000\n",
      "Best Validation Loss: 52.0628\n",
      "Best Validation Metric: 0.0000\n",
      "Best Epoch: 5\n",
      "==================================================\n",
      "\n"
     ]
    },
    {
     "name": "stderr",
     "output_type": "stream",
     "text": [
      "Epoch 7: 100%|██████████| 1500/1500 [00:05<00:00, 260.60it/s, loss=46.5063]\n"
     ]
    },
    {
     "name": "stdout",
     "output_type": "stream",
     "text": [
      "Saved checkpoint to checkpoint/best_model.pt\n",
      "\n",
      "==================================================\n",
      "Epoch: 7\n",
      "Time: 6.53s\n",
      "Training Loss: 46.5063\n",
      "Validation Loss: 50.3994\n",
      "Validation Metric: 0.0000\n",
      "Best Validation Loss: 50.3994\n",
      "Best Validation Metric: 0.0000\n",
      "Best Epoch: 7\n",
      "==================================================\n",
      "\n"
     ]
    },
    {
     "name": "stderr",
     "output_type": "stream",
     "text": [
      "Epoch 8: 100%|██████████| 1500/1500 [00:05<00:00, 260.98it/s, loss=45.6114]\n"
     ]
    },
    {
     "name": "stdout",
     "output_type": "stream",
     "text": [
      "\n",
      "==================================================\n",
      "Epoch: 8\n",
      "Time: 6.50s\n",
      "Training Loss: 45.6114\n",
      "Validation Loss: 52.3379\n",
      "Validation Metric: 0.0000\n",
      "Best Validation Loss: 50.3994\n",
      "Best Validation Metric: 0.0000\n",
      "Best Epoch: 7\n",
      "==================================================\n",
      "\n"
     ]
    },
    {
     "name": "stderr",
     "output_type": "stream",
     "text": [
      "Epoch 9: 100%|██████████| 1500/1500 [00:05<00:00, 264.34it/s, loss=44.5950]\n"
     ]
    },
    {
     "name": "stdout",
     "output_type": "stream",
     "text": [
      "Saved checkpoint to checkpoint/best_model.pt\n",
      "\n",
      "==================================================\n",
      "Epoch: 9\n",
      "Time: 6.44s\n",
      "Training Loss: 44.5950\n",
      "Validation Loss: 49.6711\n",
      "Validation Metric: 0.0000\n",
      "Best Validation Loss: 49.6711\n",
      "Best Validation Metric: 0.0000\n",
      "Best Epoch: 9\n",
      "==================================================\n",
      "\n"
     ]
    },
    {
     "name": "stderr",
     "output_type": "stream",
     "text": [
      "Epoch 10: 100%|██████████| 1500/1500 [00:05<00:00, 295.17it/s, loss=44.0404]\n"
     ]
    },
    {
     "name": "stdout",
     "output_type": "stream",
     "text": [
      "\n",
      "==================================================\n",
      "Epoch: 10\n",
      "Time: 5.83s\n",
      "Training Loss: 44.0404\n",
      "Validation Loss: 53.3925\n",
      "Validation Metric: 0.0000\n",
      "Best Validation Loss: 49.6711\n",
      "Best Validation Metric: 0.0000\n",
      "Best Epoch: 9\n",
      "==================================================\n",
      "\n"
     ]
    },
    {
     "name": "stderr",
     "output_type": "stream",
     "text": [
      "Epoch 11: 100%|██████████| 1500/1500 [00:05<00:00, 259.18it/s, loss=45.2003]\n"
     ]
    },
    {
     "name": "stdout",
     "output_type": "stream",
     "text": [
      "\n",
      "==================================================\n",
      "Epoch: 11\n",
      "Time: 6.54s\n",
      "Training Loss: 45.2003\n",
      "Validation Loss: 49.9261\n",
      "Validation Metric: 0.0000\n",
      "Best Validation Loss: 49.6711\n",
      "Best Validation Metric: 0.0000\n",
      "Best Epoch: 9\n",
      "==================================================\n",
      "\n"
     ]
    },
    {
     "name": "stderr",
     "output_type": "stream",
     "text": [
      "Epoch 12: 100%|██████████| 1500/1500 [00:05<00:00, 259.88it/s, loss=43.9915]\n"
     ]
    },
    {
     "name": "stdout",
     "output_type": "stream",
     "text": [
      "\n",
      "==================================================\n",
      "Epoch: 12\n",
      "Time: 6.52s\n",
      "Training Loss: 43.9915\n",
      "Validation Loss: 50.6445\n",
      "Validation Metric: 0.0000\n",
      "Best Validation Loss: 49.6711\n",
      "Best Validation Metric: 0.0000\n",
      "Best Epoch: 9\n",
      "==================================================\n",
      "\n"
     ]
    },
    {
     "name": "stderr",
     "output_type": "stream",
     "text": [
      "Epoch 13: 100%|██████████| 1500/1500 [00:05<00:00, 259.95it/s, loss=43.7836]\n"
     ]
    },
    {
     "name": "stdout",
     "output_type": "stream",
     "text": [
      "\n",
      "==================================================\n",
      "Epoch: 13\n",
      "Time: 6.52s\n",
      "Training Loss: 43.7836\n",
      "Validation Loss: 50.3431\n",
      "Validation Metric: 0.0000\n",
      "Best Validation Loss: 49.6711\n",
      "Best Validation Metric: 0.0000\n",
      "Best Epoch: 9\n",
      "==================================================\n",
      "\n"
     ]
    },
    {
     "name": "stderr",
     "output_type": "stream",
     "text": [
      "Epoch 14: 100%|██████████| 1500/1500 [00:05<00:00, 257.91it/s, loss=45.0481]\n"
     ]
    },
    {
     "name": "stdout",
     "output_type": "stream",
     "text": [
      "\n",
      "==================================================\n",
      "Epoch: 14\n",
      "Time: 6.57s\n",
      "Training Loss: 45.0481\n",
      "Validation Loss: 49.7238\n",
      "Validation Metric: 0.0000\n",
      "Best Validation Loss: 49.6711\n",
      "Best Validation Metric: 0.0000\n",
      "Best Epoch: 9\n",
      "==================================================\n",
      "\n",
      "Early stopping at epoch 14\n",
      "Saved checkpoint to checkpoint/final_model.pt\n",
      "\n",
      "Training completed in 107.97s\n",
      "Best validation loss: 49.6711\n",
      "Best validation metric: 0.0000\n",
      "Best epoch: 9\n",
      "Loaded checkpoint from checkpoint/best_model.pt\n",
      "Training completed.\n",
      "Starting evaluation mode...\n",
      "Preparing data for evaluation...\n",
      "Evaluating model...\n",
      "Loaded checkpoint from checkpoint/best_model.pt\n",
      "Evaluation completed.\n",
      "Starting prediction mode...\n",
      "Preparing data for prediction...\n",
      "Predicting variants...\n",
      "Variant predictions saved to outputs/variant_predictions.csv\n",
      "Prediction completed.\n",
      "Successfully completed run command!\n"
     ]
    }
   ],
   "source": [
    "# Load configuration\n",
    "config = ConfigManager().load_config(\"complete_config.json\")\n",
    "\n",
    "# Setup environment\n",
    "device, logger = setup_environment(\n",
    "    config.get(\"output_dir\", \"outputs\"),\n",
    "    config.get(\"verbose\", 1),\n",
    "    config.get(\"seed\", 123),\n",
    "    config.get(\"benchmark\", True),\n",
    "    config.get(\"gpu\", 0),\n",
    ")\n",
    "\n",
    "cli = DgsCLI(config=config, device=device)\n",
    "cli.execute()\n",
    "logger.info(f\"Successfully completed run command!\")\n"
   ]
  },
  {
   "cell_type": "markdown",
   "metadata": {},
   "source": [
    "The minimal experiment finished, please check the results in the output dirs.\n",
    "\n",
    "DGS could be quite flexiable and complicated, please check the documents and tutorials for exploration."
   ]
  },
  {
   "cell_type": "code",
   "execution_count": null,
   "metadata": {},
   "outputs": [],
   "source": []
  }
 ],
 "metadata": {
  "file_extension": ".py",
  "kernelspec": {
   "display_name": "Python 3 (ipykernel)",
   "language": "python",
   "name": "python3"
  },
  "language_info": {
   "codemirror_mode": {
    "name": "ipython",
    "version": 3
   },
   "file_extension": ".py",
   "mimetype": "text/x-python",
   "name": "python",
   "nbconvert_exporter": "python",
   "pygments_lexer": "ipython3",
   "version": "3.9.7"
  },
  "mimetype": "text/x-python",
  "name": "python",
  "npconvert_exporter": "python",
  "pygments_lexer": "ipython3",
  "version": 3
 },
 "nbformat": 4,
 "nbformat_minor": 2
}
